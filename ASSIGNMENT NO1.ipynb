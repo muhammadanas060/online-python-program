{
 "cells": [
  {
   "cell_type": "markdown",
   "id": "9295f720",
   "metadata": {},
   "source": [
    "1. Write a Python program to print the following string in a specific format (see the output)."
   ]
  },
  {
   "cell_type": "code",
   "execution_count": null,
   "id": "8fbe194e",
   "metadata": {
    "scrolled": true
   },
   "outputs": [],
   "source": [
    "print (\"\\tTwinkle, twinkle, little star\\n\\t\\t How I wonder what you are!\\n\\t\\t\\tUp abpve wprld so high,\\n\\t\\t\\tLike a diamind in the sky.\\n\\tTwinkle, twinkle, little star\\n\\t\\t How I wonder what you are!\\n\")"
   ]
  },
  {
   "cell_type": "markdown",
   "id": "0c180ab2",
   "metadata": {},
   "source": [
    "2. Write a Python program to get the Python version you are using"
   ]
  },
  {
   "cell_type": "code",
   "execution_count": null,
   "id": "68e846ff",
   "metadata": {},
   "outputs": [],
   "source": [
    "import sys\n",
    "print (\"Python Version\")\n",
    "print (sys.version)\n",
    "print (\"Python Version Infromation\")\n",
    "print (sys.version_info)"
   ]
  },
  {
   "cell_type": "markdown",
   "id": "2397d4d6",
   "metadata": {},
   "source": [
    "3. Write a Python program to display the current date and time."
   ]
  },
  {
   "cell_type": "code",
   "execution_count": null,
   "id": "ea1fdc61",
   "metadata": {},
   "outputs": [],
   "source": [
    "import datetime\n",
    "now = datetime.datetime.now()\n",
    "print (\"Current date and time : \", now.strftime(\"%Y-%m-%d %H:%M:%S\"))"
   ]
  },
  {
   "cell_type": "markdown",
   "id": "668c9ca2",
   "metadata": {},
   "source": [
    "4. Write a Python program which accepts the radius of a circle from the user and compute the area."
   ]
  },
  {
   "cell_type": "code",
   "execution_count": null,
   "id": "f801d1b5",
   "metadata": {},
   "outputs": [],
   "source": [
    "#FIRST METHOD\n",
    "import math\n",
    "radius = float(input(\"Enter the value of radius:\\t\"))\n",
    "area= math.pi * radius * radius\n",
    "print (\"This is you circle's area:\\t\",area)\n",
    "\n",
    "#SECOND METHOD\n",
    "radius = float(input(\"Enter the value of radius:\\t\"))\n",
    "area= 3.14159 * radius * radius\n",
    "print (\"This is you circle's area:\\t\",area)"
   ]
  },
  {
   "cell_type": "markdown",
   "id": "7a914cff",
   "metadata": {},
   "source": [
    "5. Write a Python program which accepts the user's first and last name and print them in reverse order with a space between them."
   ]
  },
  {
   "cell_type": "code",
   "execution_count": null,
   "id": "8e07a31e",
   "metadata": {},
   "outputs": [],
   "source": [
    "first_Name = input(\"Enter Your First Name:\\t\")\n",
    "last_Name = input(\"Enter your Last Name:\\t\")\n",
    "print (\"Assalam O Alaikum!\"+\" \"+last_Name+\" \"+first_Name)"
   ]
  },
  {
   "cell_type": "markdown",
   "id": "6f03cfd3",
   "metadata": {},
   "source": [
    "6. Write a python program which takes two inputs from user and print them addition"
   ]
  },
  {
   "cell_type": "code",
   "execution_count": null,
   "id": "1d4db635",
   "metadata": {},
   "outputs": [],
   "source": [
    "#First Method (If we take only interger numbers)\n",
    "numBer1 = int(input(\"Enter First Number:\\t\"))\n",
    "numBer2 = int(input(\"Enter Second Number:\\t\"))\n",
    "sum = numBer1 + numBer2\n",
    "print (\"This is you answer:\\t\",sum)\n",
    "\n",
    "#Second Method (If we take floating point numbers)\n",
    "numBer1 = float(input(\"Enter First Number:\\t\"))\n",
    "numBer2 = float(input(\"Enter Second Number:\\t\"))\n",
    "sum = float(numBer1 + numBer2)\n",
    "print (\"This is you answer:\\t\",sum)"
   ]
  },
  {
   "cell_type": "markdown",
   "id": "19854547",
   "metadata": {},
   "source": [
    "7. Write a program which takes 5 inputs from user for different subject’s marks, total it and generate mark sheet using grades ?"
   ]
  },
  {
   "cell_type": "code",
   "execution_count": null,
   "id": "e87f6421",
   "metadata": {},
   "outputs": [],
   "source": [
    "print (\"***********************This is your Marksheet***********************\\n\");\n",
    "mathEmatics = float(input(\"Enter your Mathematics Marks:\\t\"));\n",
    "engLish = float(input(\"Enter your English Marks:\\t\"));\n",
    "urDu = float(input(\"Enter your Urdu Marks:\\t\\t\"));\n",
    "sciEnce = float(input(\"Enter your Science Marks:\\t\"))\n",
    "compUter = float(input(\"Enter your Computer Marks:\\t\"))\n",
    "\n",
    "obtainedMarks = mathEmatics + engLish + urDu + sciEnce + compUter;\n",
    "toTalmarks = 500;\n",
    "\n",
    "print (\"Your Score is\" +\" \"+ str(obtainedMarks) +\" \"+ \"out of\" +\" \"+ str(toTalmarks));\n",
    "\n",
    "perCentage = obtainedMarks / toTalmarks * 100;\n",
    "print (\"Your percentage is: \"+\" \"+ str(perCentage))\n",
    "\n",
    "if perCentage >= 90 and perCentage <= 100:\n",
    "    print (\"Your Garde Is A+ !\");\n",
    "\n",
    "elif perCentage >= 80 and perCentage <= 90:\n",
    "    print (\"Your Garde Is A1 !\");\n",
    "\n",
    "elif perCentage >= 70 and perCentage <= 80:\n",
    "    print (\"Your Garde Is A !\");\n",
    "\n",
    "elif perCentage >= 60 and perCentage <= 70:\n",
    "    print (\"Your Garde Is B !\");\n",
    "\n",
    "elif perCentage >= 50 and perCentage <= 60:\n",
    "    print (\"Your Garde Is C !\");\n",
    "\n",
    "elif perCentage >= 40 and perCentage <= 50:\n",
    "    print (\"Your Garde Is D !\");\n",
    "\n",
    "elif perCentage >= 30 and perCentage <= 40:\n",
    "    print (\"Your Garde Is E !\");\n",
    "\n",
    "elif perCentage >= 20 and perCentage <= 30:\n",
    "    print (\"Your Garde Is F !\");\n",
    "\n",
    "elif perCentage >= 10 and perCentage <= 20:\n",
    "    print (\"Your Garde Is F !\");\n",
    "\n",
    "else:\n",
    "    print (\"Your result is available!\")\n"
   ]
  },
  {
   "cell_type": "markdown",
   "id": "3a86f065",
   "metadata": {},
   "source": [
    "8. Write a program which take input from user and identify that the given number is even or odd?"
   ]
  },
  {
   "cell_type": "code",
   "execution_count": null,
   "id": "c3a330c5",
   "metadata": {},
   "outputs": [],
   "source": [
    "first_Number = int(input(\"Enter any number you want!:\\t\"))\n",
    "remainder = first_Number / 2\n",
    "if (first_Number == 0):\n",
    "    print (\"Your number\"+\" \"+str(first_Number)+\" \"+\"is Even\")\n",
    "else:\n",
    "    print (\"Your number\"+\" \"+str(first_Number)+\" \"+\"is Odd\")"
   ]
  },
  {
   "cell_type": "markdown",
   "id": "7a876e1b",
   "metadata": {},
   "source": [
    "9. Write a program which print the length of the list?"
   ]
  },
  {
   "cell_type": "code",
   "execution_count": 1,
   "id": "a1760de2",
   "metadata": {},
   "outputs": [
    {
     "name": "stdout",
     "output_type": "stream",
     "text": [
      "This is the lenght of your list:\t 8\n",
      "This is the lenght of your list:\t 8\n"
     ]
    }
   ],
   "source": [
    "#First Method (Using loop to find length of the list)\n",
    "list_of_all = [\"osama\", 25 , \"Humdan\", 23, \"Anas\", 20.5, \"Huzaifa\", 19]\n",
    "incReas = 0\n",
    "for i in list_of_all:\n",
    "    incReas = incReas + 1\n",
    "print (\"This is the lenght of your list:\\t\",incReas)\n",
    "\n",
    "#Second Method (Using Built in function provided by python fo find the lenght of the list)\n",
    "list_of_all = [\"osama\", 25 , \"Humdan\", 23, \"Anas\", 20.5, \"Huzaifa\", 19]\n",
    "print (\"This is the lenght of your list:\\t\", len(list_of_all))"
   ]
  },
  {
   "cell_type": "markdown",
   "id": "759efa34",
   "metadata": {},
   "source": [
    "10. Write a Python program to sum all the numeric items in a list?"
   ]
  },
  {
   "cell_type": "code",
   "execution_count": 2,
   "id": "40e4648e",
   "metadata": {},
   "outputs": [
    {
     "name": "stdout",
     "output_type": "stream",
     "text": [
      "210\n"
     ]
    }
   ],
   "source": [
    "#First Method (Using loop to find the sum of the list)\n",
    "list_of_numbers = [1,2,3,4,5,6,7,8,9,10,11,12,13,14,15,16,17,18,19,20]\n",
    "sum = 0\n",
    "for i in range(0,len(list_of_numbers)):\n",
    "    sum = sum + list_of_numbers[i]\n",
    "print (sum)\n"
   ]
  },
  {
   "cell_type": "markdown",
   "id": "48e0ad7c",
   "metadata": {},
   "source": [
    "11. Write a Python program to get the largest number from a numeric list."
   ]
  },
  {
   "cell_type": "code",
   "execution_count": 3,
   "id": "c20ffbbb",
   "metadata": {},
   "outputs": [
    {
     "name": "stdout",
     "output_type": "stream",
     "text": [
      "Our list is not sorted yet look at this\n",
      "[100, 48, 8982, 25726, 239, 89283, 25, 56572686, 292898219, 2082793, 2232]\n",
      "Greatest number in thi list is:\t 292898219\n",
      "Smallest number in thi list is:\t 25\n",
      "Now our list is Sorted look at this\n",
      "[25, 48, 100, 239, 2232, 8982, 25726, 89283, 2082793, 56572686, 292898219]\n",
      "The Smallest number in the list is:\t 25\n",
      "The Greatest number in the list is:\t 292898219\n"
     ]
    }
   ],
   "source": [
    "#First Method (Using min() and max() method to find put the smallest and greatest number in a list) \n",
    "list_of_numbers = [100, 48, 8982, 25726, 239, 89283, 25, 56572686, 292898219, 2082793, 2232]\n",
    "print (\"Our list is not sorted yet look at this\")\n",
    "print (list_of_numbers)\n",
    "print (\"Greatest number in thi list is:\\t\", max(list_of_numbers))\n",
    "print (\"Smallest number in thi list is:\\t\", min(list_of_numbers))\n",
    "\n",
    "\n",
    "\n",
    "\n",
    "#Second Method (Using sorting method first and the find the smallest and greatest)\n",
    "list_of_numbers = [100, 48, 8982, 25726, 239, 89283, 25, 56572686, 292898219, 2082793, 2232]\n",
    "list_of_numbers.sort() #<-------this is sorting algorithm\n",
    "print (\"Now our list is Sorted look at this\")\n",
    "print (list_of_numbers)\n",
    "print (\"The Smallest number in the list is:\\t\", list_of_numbers[0])\n",
    "print (\"The Greatest number in the list is:\\t\", list_of_numbers[10])"
   ]
  },
  {
   "cell_type": "code",
   "execution_count": 4,
   "id": "fd122f5c",
   "metadata": {},
   "outputs": [
    {
     "name": "stdout",
     "output_type": "stream",
     "text": [
      "This is the number in the list which is smallest to 5: 1\n",
      "This is the number in the list which is smallest to 5: 1\n",
      "This is the number in the list which is smallest to 5: 2\n",
      "This is the number in the list which is smallest to 5: 3\n"
     ]
    }
   ],
   "source": [
    "list_of_numbers = [1, 1, 2, 3, 5, 8, 13, 21, 34, 55, 89]\n",
    "for i in list_of_numbers:\n",
    "    if i < 5:\n",
    "        print(\"This is the number in the list which is smallest to 5:\" , i)\n"
   ]
  }
 ],
 "metadata": {
  "kernelspec": {
   "display_name": "Python 3",
   "language": "python",
   "name": "python3"
  },
  "language_info": {
   "codemirror_mode": {
    "name": "ipython",
    "version": 3
   },
   "file_extension": ".py",
   "mimetype": "text/x-python",
   "name": "python",
   "nbconvert_exporter": "python",
   "pygments_lexer": "ipython3",
   "version": "3.8.8"
  }
 },
 "nbformat": 4,
 "nbformat_minor": 5
}
